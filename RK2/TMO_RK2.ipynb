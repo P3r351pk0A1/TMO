{
 "cells": [
  {
   "cell_type": "markdown",
   "metadata": {},
   "source": [
    "# Рубежный контроль №2 по предмету \"Технологии машинного обучения\"\n",
    "\n",
    "**Имя студента:** Пересыпко Александр, РТ5-61Б  \n",
    "**Датасет:** marvel-wikia-data.csv   https://www.kaggle.com/fivethirtyeight/fivethirtyeight-comic-characters-dataset \n",
    "**Вариант 13**  \n",
    "**Метод 1:**  Дерево решений \n",
    "**Метод 2:**  Градиентный бустинг\n",
    "\n",
    "---\n",
    "\n",
    "## Описание датасета\n",
    "\n",
    "Датасет содержит несколько параметров, которые считаются важными при подаче заявления на программы магистратуры, и вероятность поступить в магистратуру\n",
    "\n",
    "\n",
    "### Основные атрибуты:\n",
    "- **page_id**  \n",
    "  Уникальный числовой идентификатор страницы персонажа в Wikia.  \n",
    "- **name**  \n",
    "  Имя персонажа.  \n",
    "- **urlslug**  \n",
    "  Уникальная часть URL, ведущая на страницу персонажа.  \n",
    "- **ID**  \n",
    "  Тип личности: Secret Identity (секретная), Public Identity (публичная), No Dual Identity (только для Marvel).  \n",
    "- **ALIGN**  \n",
    "  Выравнивание (Good, Bad, Neutral).  \n",
    "- **EYE**  \n",
    "  Цвет глаз персонажа.  \n",
    "- **HAIR**  \n",
    "  Цвет волос персонажа.  \n",
    "- **SEX**  \n",
    "  Пол персонажа (Male, Female и т. п.).  \n",
    "- **GSM**  \n",
    "  Признак гендерного или сексуального меньшинства (например, гомосексуальные, бисексуальные и т. д.).  \n",
    "- **ALIVE**  \n",
    "  Статус: alive (жив) или deceased (умер).  \n",
    "- **APPEARANCES**  \n",
    "  Число появлений персонажа в комиксах (на 2 сентября 2014).  \n",
    "- **FIRST APPEARANCE**  \n",
    "  Месяц и год первого появления персонажа в комиксах (если доступно).  \n",
    "- **YEAR**  \n",
    "  Год первого появления (если доступно).  \n",
    "\n",
    "---\n",
    "\n",
    "## Задание\n",
    "\n",
    "Для заданного набора данных (по Вашему варианту) постройте модели классификации или регрессии (в зависимости от конкретной задачи, рассматриваемой в наборе данных). Для построения моделей используйте методы 1 и 2 (по варианту для Вашей группы). Оцените качество моделей на основе подходящих метрик качества (не менее двух метрик). Какие метрики качества Вы использовали и почему? Какие выводы Вы можете сделать о качестве построенных моделей? Для построения моделей необходимо выполнить требуемую предобработку данных: заполнение пропусков, кодирование категориальных признаков, и т.д.\n"
   ]
  },
  {
   "cell_type": "code",
   "execution_count": 37,
   "metadata": {},
   "outputs": [
    {
     "name": "stdout",
     "output_type": "stream",
     "text": [
      "Исходный DataFrame:\n",
      "   page_id                                 name  \\\n",
      "0     1678            Spider-Man (Peter Parker)   \n",
      "1     7139      Captain America (Steven Rogers)   \n",
      "2    64786  Wolverine (James \\\"Logan\\\" Howlett)   \n",
      "3     1868    Iron Man (Anthony \\\"Tony\\\" Stark)   \n",
      "4     2460                  Thor (Thor Odinson)   \n",
      "\n",
      "                                   urlslug                ID  \\\n",
      "0              \\/Spider-Man_(Peter_Parker)   Secret Identity   \n",
      "1        \\/Captain_America_(Steven_Rogers)   Public Identity   \n",
      "2  \\/Wolverine_(James_%22Logan%22_Howlett)   Public Identity   \n",
      "3    \\/Iron_Man_(Anthony_%22Tony%22_Stark)   Public Identity   \n",
      "4                    \\/Thor_(Thor_Odinson)  No Dual Identity   \n",
      "\n",
      "                ALIGN         EYE        HAIR              SEX  GSM  \\\n",
      "0     Good Characters  Hazel Eyes  Brown Hair  Male Characters  NaN   \n",
      "1     Good Characters   Blue Eyes  White Hair  Male Characters  NaN   \n",
      "2  Neutral Characters   Blue Eyes  Black Hair  Male Characters  NaN   \n",
      "3     Good Characters   Blue Eyes  Black Hair  Male Characters  NaN   \n",
      "4     Good Characters   Blue Eyes  Blond Hair  Male Characters  NaN   \n",
      "\n",
      "               ALIVE  APPEARANCES FIRST APPEARANCE    Year  \n",
      "0  Living Characters       4043.0           Aug-62  1962.0  \n",
      "1  Living Characters       3360.0           Mar-41  1941.0  \n",
      "2  Living Characters       3061.0           Oct-74  1974.0  \n",
      "3  Living Characters       2961.0           Mar-63  1963.0  \n",
      "4  Living Characters       2258.0           Nov-50  1950.0  \n"
     ]
    }
   ],
   "source": [
    "import numpy as np\n",
    "import pandas as pd\n",
    "import seaborn as sns\n",
    "import matplotlib.pyplot as plt\n",
    "\n",
    "# Загрузка данных из CSV файла\n",
    "df = pd.read_csv('marvel-wikia-data.csv')\n",
    "\n",
    "# Отображение первых нескольких строк исходного DataFrame\n",
    "print(\"Исходный DataFrame:\")\n",
    "print(df.head(5))"
   ]
  },
  {
   "cell_type": "markdown",
   "metadata": {},
   "source": [
    "### Удаляем ненужные фичи"
   ]
  },
  {
   "cell_type": "code",
   "execution_count": 38,
   "metadata": {},
   "outputs": [],
   "source": [
    "df = df.drop(['page_id', 'name', 'urlslug', 'FIRST APPEARANCE', 'GSM'], axis=1)\n"
   ]
  },
  {
   "cell_type": "markdown",
   "metadata": {},
   "source": [
    "### Подсчитаем количество строк с пропусками в датасете"
   ]
  },
  {
   "cell_type": "code",
   "execution_count": 39,
   "metadata": {},
   "outputs": [
    {
     "name": "stdout",
     "output_type": "stream",
     "text": [
      "Всего строк: 16376\n"
     ]
    },
    {
     "data": {
      "text/plain": [
       "ID             3770\n",
       "ALIGN          2812\n",
       "EYE            9767\n",
       "HAIR           4264\n",
       "SEX             854\n",
       "ALIVE             3\n",
       "APPEARANCES    1096\n",
       "Year            815\n",
       "dtype: int64"
      ]
     },
     "execution_count": 39,
     "metadata": {},
     "output_type": "execute_result"
    }
   ],
   "source": [
    "initial_row_count = df.shape[0]\n",
    "\n",
    "total_count = df.shape[0]\n",
    "print('Всего строк: {}'.format(total_count))\n",
    "\n",
    "df.isnull().sum()"
   ]
  },
  {
   "cell_type": "code",
   "execution_count": null,
   "metadata": {},
   "outputs": [],
   "source": [
    "cat_cols = ['ID', 'ALIGN', 'EYE', 'HAIR', 'SEX', 'GSM', 'ALIVE', 'APPEARANCES']\n",
    "for col in cat_cols:\n",
    "    df[col] = df[col].replace('', np.nan).fillna(df[col].median())\n",
    "\n",
    "initial_row_count = df.shape[0]\n",
    "\n",
    "total_count = df.shape[0]\n",
    "print('Всего строк: {}'.format(total_count))\n",
    "df.isnull().sum()"
   ]
  },
  {
   "cell_type": "markdown",
   "metadata": {},
   "source": [
    "### Закодируем категориальные признаки"
   ]
  },
  {
   "cell_type": "code",
   "execution_count": 40,
   "metadata": {},
   "outputs": [
    {
     "data": {
      "text/html": [
       "<div>\n",
       "<style scoped>\n",
       "    .dataframe tbody tr th:only-of-type {\n",
       "        vertical-align: middle;\n",
       "    }\n",
       "\n",
       "    .dataframe tbody tr th {\n",
       "        vertical-align: top;\n",
       "    }\n",
       "\n",
       "    .dataframe thead th {\n",
       "        text-align: right;\n",
       "    }\n",
       "</style>\n",
       "<table border=\"1\" class=\"dataframe\">\n",
       "  <thead>\n",
       "    <tr style=\"text-align: right;\">\n",
       "      <th></th>\n",
       "      <th>ALIGN</th>\n",
       "      <th>APPEARANCES</th>\n",
       "      <th>Year</th>\n",
       "      <th>ID_Known to Authorities Identity</th>\n",
       "      <th>ID_No Dual Identity</th>\n",
       "      <th>ID_Public Identity</th>\n",
       "      <th>ID_Secret Identity</th>\n",
       "      <th>ID_nan</th>\n",
       "      <th>EYE_Amber Eyes</th>\n",
       "      <th>EYE_Black Eyeballs</th>\n",
       "      <th>...</th>\n",
       "      <th>HAIR_Yellow Hair</th>\n",
       "      <th>HAIR_nan</th>\n",
       "      <th>SEX_Agender Characters</th>\n",
       "      <th>SEX_Female Characters</th>\n",
       "      <th>SEX_Genderfluid Characters</th>\n",
       "      <th>SEX_Male Characters</th>\n",
       "      <th>SEX_nan</th>\n",
       "      <th>ALIVE_Deceased Characters</th>\n",
       "      <th>ALIVE_Living Characters</th>\n",
       "      <th>ALIVE_nan</th>\n",
       "    </tr>\n",
       "  </thead>\n",
       "  <tbody>\n",
       "    <tr>\n",
       "      <th>0</th>\n",
       "      <td>1</td>\n",
       "      <td>41.776224</td>\n",
       "      <td>-1.167262</td>\n",
       "      <td>0.0</td>\n",
       "      <td>0.0</td>\n",
       "      <td>0.0</td>\n",
       "      <td>1.0</td>\n",
       "      <td>0.0</td>\n",
       "      <td>0.0</td>\n",
       "      <td>0.0</td>\n",
       "      <td>...</td>\n",
       "      <td>0.0</td>\n",
       "      <td>0.0</td>\n",
       "      <td>0.0</td>\n",
       "      <td>0.0</td>\n",
       "      <td>0.0</td>\n",
       "      <td>1.0</td>\n",
       "      <td>0.0</td>\n",
       "      <td>0.0</td>\n",
       "      <td>1.0</td>\n",
       "      <td>0.0</td>\n",
       "    </tr>\n",
       "    <tr>\n",
       "      <th>1</th>\n",
       "      <td>1</td>\n",
       "      <td>34.688942</td>\n",
       "      <td>-2.235261</td>\n",
       "      <td>0.0</td>\n",
       "      <td>0.0</td>\n",
       "      <td>1.0</td>\n",
       "      <td>0.0</td>\n",
       "      <td>0.0</td>\n",
       "      <td>0.0</td>\n",
       "      <td>0.0</td>\n",
       "      <td>...</td>\n",
       "      <td>0.0</td>\n",
       "      <td>0.0</td>\n",
       "      <td>0.0</td>\n",
       "      <td>0.0</td>\n",
       "      <td>0.0</td>\n",
       "      <td>1.0</td>\n",
       "      <td>0.0</td>\n",
       "      <td>0.0</td>\n",
       "      <td>1.0</td>\n",
       "      <td>0.0</td>\n",
       "    </tr>\n",
       "    <tr>\n",
       "      <th>2</th>\n",
       "      <td>2</td>\n",
       "      <td>31.586311</td>\n",
       "      <td>-0.556977</td>\n",
       "      <td>0.0</td>\n",
       "      <td>0.0</td>\n",
       "      <td>1.0</td>\n",
       "      <td>0.0</td>\n",
       "      <td>0.0</td>\n",
       "      <td>0.0</td>\n",
       "      <td>0.0</td>\n",
       "      <td>...</td>\n",
       "      <td>0.0</td>\n",
       "      <td>0.0</td>\n",
       "      <td>0.0</td>\n",
       "      <td>0.0</td>\n",
       "      <td>0.0</td>\n",
       "      <td>1.0</td>\n",
       "      <td>0.0</td>\n",
       "      <td>0.0</td>\n",
       "      <td>1.0</td>\n",
       "      <td>0.0</td>\n",
       "    </tr>\n",
       "    <tr>\n",
       "      <th>3</th>\n",
       "      <td>1</td>\n",
       "      <td>30.548641</td>\n",
       "      <td>-1.116405</td>\n",
       "      <td>0.0</td>\n",
       "      <td>0.0</td>\n",
       "      <td>1.0</td>\n",
       "      <td>0.0</td>\n",
       "      <td>0.0</td>\n",
       "      <td>0.0</td>\n",
       "      <td>0.0</td>\n",
       "      <td>...</td>\n",
       "      <td>0.0</td>\n",
       "      <td>0.0</td>\n",
       "      <td>0.0</td>\n",
       "      <td>0.0</td>\n",
       "      <td>0.0</td>\n",
       "      <td>1.0</td>\n",
       "      <td>0.0</td>\n",
       "      <td>0.0</td>\n",
       "      <td>1.0</td>\n",
       "      <td>0.0</td>\n",
       "    </tr>\n",
       "    <tr>\n",
       "      <th>4</th>\n",
       "      <td>1</td>\n",
       "      <td>23.253825</td>\n",
       "      <td>-1.777547</td>\n",
       "      <td>0.0</td>\n",
       "      <td>1.0</td>\n",
       "      <td>0.0</td>\n",
       "      <td>0.0</td>\n",
       "      <td>0.0</td>\n",
       "      <td>0.0</td>\n",
       "      <td>0.0</td>\n",
       "      <td>...</td>\n",
       "      <td>0.0</td>\n",
       "      <td>0.0</td>\n",
       "      <td>0.0</td>\n",
       "      <td>0.0</td>\n",
       "      <td>0.0</td>\n",
       "      <td>1.0</td>\n",
       "      <td>0.0</td>\n",
       "      <td>0.0</td>\n",
       "      <td>1.0</td>\n",
       "      <td>0.0</td>\n",
       "    </tr>\n",
       "  </tbody>\n",
       "</table>\n",
       "<p>5 rows × 67 columns</p>\n",
       "</div>"
      ],
      "text/plain": [
       "   ALIGN  APPEARANCES      Year  ID_Known to Authorities Identity  \\\n",
       "0      1    41.776224 -1.167262                               0.0   \n",
       "1      1    34.688942 -2.235261                               0.0   \n",
       "2      2    31.586311 -0.556977                               0.0   \n",
       "3      1    30.548641 -1.116405                               0.0   \n",
       "4      1    23.253825 -1.777547                               0.0   \n",
       "\n",
       "   ID_No Dual Identity  ID_Public Identity  ID_Secret Identity  ID_nan  \\\n",
       "0                  0.0                 0.0                 1.0     0.0   \n",
       "1                  0.0                 1.0                 0.0     0.0   \n",
       "2                  0.0                 1.0                 0.0     0.0   \n",
       "3                  0.0                 1.0                 0.0     0.0   \n",
       "4                  1.0                 0.0                 0.0     0.0   \n",
       "\n",
       "   EYE_Amber Eyes  EYE_Black Eyeballs  ...  HAIR_Yellow Hair  HAIR_nan  \\\n",
       "0             0.0                 0.0  ...               0.0       0.0   \n",
       "1             0.0                 0.0  ...               0.0       0.0   \n",
       "2             0.0                 0.0  ...               0.0       0.0   \n",
       "3             0.0                 0.0  ...               0.0       0.0   \n",
       "4             0.0                 0.0  ...               0.0       0.0   \n",
       "\n",
       "   SEX_Agender Characters  SEX_Female Characters  SEX_Genderfluid Characters  \\\n",
       "0                     0.0                    0.0                         0.0   \n",
       "1                     0.0                    0.0                         0.0   \n",
       "2                     0.0                    0.0                         0.0   \n",
       "3                     0.0                    0.0                         0.0   \n",
       "4                     0.0                    0.0                         0.0   \n",
       "\n",
       "   SEX_Male Characters  SEX_nan  ALIVE_Deceased Characters  \\\n",
       "0                  1.0      0.0                        0.0   \n",
       "1                  1.0      0.0                        0.0   \n",
       "2                  1.0      0.0                        0.0   \n",
       "3                  1.0      0.0                        0.0   \n",
       "4                  1.0      0.0                        0.0   \n",
       "\n",
       "   ALIVE_Living Characters  ALIVE_nan  \n",
       "0                      1.0        0.0  \n",
       "1                      1.0        0.0  \n",
       "2                      1.0        0.0  \n",
       "3                      1.0        0.0  \n",
       "4                      1.0        0.0  \n",
       "\n",
       "[5 rows x 67 columns]"
      ]
     },
     "execution_count": 40,
     "metadata": {},
     "output_type": "execute_result"
    }
   ],
   "source": [
    "from sklearn.preprocessing import OneHotEncoder, LabelEncoder\n",
    "\n",
    "# Категориальные колонки\n",
    "cat_cols = ['ID', 'ALIGN', 'EYE', 'HAIR', 'SEX', 'ALIVE']\n",
    "\n",
    "# 1) Label-encode для ALIGN\n",
    "le = LabelEncoder()\n",
    "df['ALIGN'] = le.fit_transform(df['ALIGN'].astype(str))\n",
    "\n",
    "# 2) OneHotEncoder с новым параметром sparse_output=False\n",
    "ohe_cols = [c for c in cat_cols if c != 'ALIGN']\n",
    "ohe = OneHotEncoder(sparse_output=False, handle_unknown='ignore')\n",
    "ohe_array = ohe.fit_transform(df[ohe_cols].astype(str))\n",
    "ohe_names = ohe.get_feature_names_out(ohe_cols)\n",
    "\n",
    "# Собираем DataFrame из ohe-результатов\n",
    "ohe_df = pd.DataFrame(ohe_array, columns=ohe_names, index=df.index)\n",
    "\n",
    "# 3) Итоговый df: удаляем оригинальные ohe_cols и добавляем новые one-hot\n",
    "df = pd.concat([df.drop(columns=ohe_cols), ohe_df], axis=1)\n",
    "\n",
    "from sklearn.preprocessing import StandardScaler\n",
    "\n",
    "# Перечень числовых признаков для масштабирования\n",
    "numeric_cols = ['APPEARANCES', 'Year']\n",
    "\n",
    "# Инициализируем и применяем StandardScaler\n",
    "scaler = StandardScaler()\n",
    "df[numeric_cols] = scaler.fit_transform(df[numeric_cols])\n",
    "\n",
    "# Проверим результат\n",
    "df[numeric_cols].head()\n",
    "\n",
    "df.head()"
   ]
  },
  {
   "cell_type": "markdown",
   "metadata": {},
   "source": [
    "### Заполняем пропуски\n",
    "Для всех столбцов, кроме year - медианой, year не трогаем"
   ]
  },
  {
   "cell_type": "code",
   "execution_count": null,
   "metadata": {},
   "outputs": [
    {
     "name": "stdout",
     "output_type": "stream",
     "text": [
      "Всего строк: 16376\n"
     ]
    },
    {
     "data": {
      "text/plain": [
       "ID               0\n",
       "ALIGN            0\n",
       "EYE              0\n",
       "HAIR             0\n",
       "SEX              0\n",
       "GSM              0\n",
       "ALIVE            0\n",
       "APPEARANCES      0\n",
       "Year           815\n",
       "dtype: int64"
      ]
     },
     "execution_count": 13,
     "metadata": {},
     "output_type": "execute_result"
    }
   ],
   "source": []
  },
  {
   "cell_type": "markdown",
   "metadata": {},
   "source": [
    "### Разобьем датасет: в тест поместим ноды с пропусками в year и добавим до 10%"
   ]
  },
  {
   "cell_type": "code",
   "execution_count": 17,
   "metadata": {},
   "outputs": [
    {
     "name": "stdout",
     "output_type": "stream",
     "text": [
      "Train shape: (14739, 9)\n",
      "Test shape:  (1637, 9)\n"
     ]
    }
   ],
   "source": [
    "from sklearn.model_selection import train_test_split\n",
    "\n",
    "mask_missing_year = df['Year'].isna()\n",
    "\n",
    "# Группа с пропусками и без\n",
    "df_missing = df[mask_missing_year]\n",
    "df_not_missing = df[~mask_missing_year]\n",
    "\n",
    "# Вычисляем, сколько всего строк в тесте (10% от всего датасета)\n",
    "total_n = len(df)\n",
    "test_total_n = int(total_n * 0.1)\n",
    "\n",
    "# Сколько взять из df_not_missing, чтобы вместе с df_missing получилось 10%\n",
    "rest_test_n = test_total_n - len(df_missing)\n",
    "test_size_rest = rest_test_n / len(df_not_missing)\n",
    "\n",
    "# Делаем train-test сплит по непустым\n",
    "df_train_rest, df_test_rest = train_test_split(\n",
    "    df_not_missing,\n",
    "    test_size=test_size_rest,\n",
    "    random_state=42,\n",
    "    shuffle=True\n",
    ")\n",
    "\n",
    "# Собираем финальные выборки\n",
    "train_df = df_train_rest.reset_index(drop=True)\n",
    "test_df = (\n",
    "    pd.concat([df_test_rest, df_missing], axis=0)\n",
    "      .sample(frac=1, random_state=42)\n",
    "      .reset_index(drop=True)\n",
    ")\n",
    "\n",
    "print(f\"Train shape: {train_df.shape}\")\n",
    "print(f\"Test shape:  {test_df.shape}\")"
   ]
  },
  {
   "cell_type": "markdown",
   "metadata": {},
   "source": [
    "### Добавим категориальный признак\n",
    "\n",
    "Для этого разобьем GRE score на 3 категории: низкий средний и высокий"
   ]
  },
  {
   "cell_type": "code",
   "execution_count": 12,
   "metadata": {},
   "outputs": [],
   "source": [
    "bins = [ -np.inf, 50, 75, np.inf ]\n",
    "labels = ['низкий', 'средний', 'высокий']\n",
    "df['score_cat'] = pd.cut(df['GRE Score'], bins=bins, labels=labels, right=False)\n"
   ]
  },
  {
   "cell_type": "markdown",
   "metadata": {},
   "source": [
    "### Строк с пропусками нет. Добавим их случайно\n",
    "\n",
    "Добавим пропуски в категориальный признак GRE Score и в числовой CGPA"
   ]
  },
  {
   "cell_type": "code",
   "execution_count": 13,
   "metadata": {},
   "outputs": [
    {
     "name": "stdout",
     "output_type": "stream",
     "text": [
      "Пропущенные в GRE Score и CGPA:\n",
      "GRE Score    40\n",
      "CGPA         20\n",
      "dtype: int64\n"
     ]
    }
   ],
   "source": [
    "# задаём долю пропусков для каждого признака\n",
    "frac_gre = 0.1    # 10% GRE Score\n",
    "frac_cgpa = 0.05  # 5% CGPA\n",
    "\n",
    "# выбираем случайные индексы для каждого\n",
    "gre_idx = df.sample(frac=frac_gre, random_state=42).index\n",
    "cgpa_idx = df.sample(frac=frac_cgpa, random_state=24).index\n",
    "\n",
    "# вставляем NaN\n",
    "df.loc[gre_idx, 'GRE Score'] = np.nan\n",
    "df.loc[cgpa_idx, 'CGPA'] = np.nan\n",
    "\n",
    "print('Пропущенные в GRE Score и CGPA:')\n",
    "print(df[['GRE Score', 'CGPA']].isnull().sum())"
   ]
  },
  {
   "cell_type": "markdown",
   "metadata": {},
   "source": [
    "## Обработка пропусков"
   ]
  },
  {
   "cell_type": "code",
   "execution_count": 14,
   "metadata": {},
   "outputs": [
    {
     "name": "stdout",
     "output_type": "stream",
     "text": [
      "Пропущенных в GRE Score после заполнения: 0\n"
     ]
    }
   ],
   "source": [
    "from sklearn.impute import SimpleImputer\n",
    "imp = SimpleImputer(strategy='most_frequent')\n",
    "\n",
    "df['GRE Score'] = imp.fit_transform(df[['GRE Score']])\n",
    "\n",
    "print('Пропущенных в GRE Score после заполнения:', df['GRE Score'].isnull().sum())"
   ]
  },
  {
   "cell_type": "code",
   "execution_count": 15,
   "metadata": {},
   "outputs": [
    {
     "name": "stdout",
     "output_type": "stream",
     "text": [
      "Пропущенных в CGPA после заполнения: 0\n"
     ]
    }
   ],
   "source": [
    "imp_cgpa = SimpleImputer(strategy='mean')\n",
    "df['CGPA'] = imp_cgpa.fit_transform(df[['CGPA']])\n",
    "print('Пропущенных в CGPA после заполнения:', df['CGPA'].isnull().sum())"
   ]
  },
  {
   "cell_type": "markdown",
   "metadata": {},
   "source": [
    "### Для студентов группы РТ5-61Б - для пары произвольных колонок данных построить график \"Jointplot\"."
   ]
  },
  {
   "cell_type": "code",
   "execution_count": null,
   "metadata": {},
   "outputs": [
    {
     "data": {
      "image/png": "[encoded data removed]",
      "text/plain": [
       "<Figure size 600x600 with 3 Axes>"
      ]
     },
     "metadata": {},
     "output_type": "display_data"
    }
   ],
   "source": [
    "import seaborn as sns\n",
    "import matplotlib.pyplot as plt\n",
    "\n",
    "col_x = 'GRE Score'\n",
    "col_y = 'CGPA'\n",
    "\n",
    "sns.jointplot(\n",
    "    x=col_x,\n",
    "    y=col_y,\n",
    "    data=df,\n",
    "    kind='scatter',\n",
    "    height=6,\n",
    "    marginal_kws=dict(bins=25, fill=True)\n",
    ")\n",
    "\n",
    "plt.suptitle(f'Jointplot: {col_x} vs {col_y}', y=1.02)\n",
    "plt.show()"
   ]
  },
  {
   "cell_type": "markdown",
   "metadata": {},
   "source": [
    "# Ответы на вопросы\n",
    "\n",
    "---\n",
    "\n",
    "### Какие способы обработки пропусков в данных для категориальных и количественных признаков Вы использовали?\n",
    "\n",
    "• Категориальный признак (GRE Score)\n",
    "– SimpleImputer(strategy='most_frequent')\n",
    "– Заполнили пустые значения наиболее часто встречающимся баллом GRE.\n",
    "\n",
    "• Количественный признак (CGPA)\n",
    "– SimpleImputer(strategy='mean')\n",
    "– Заполнили пропуски средним значением CGPA по всей выборке.\n",
    "\n",
    "---\n",
    "\n",
    "### Какие признаки Вы будете использовать для дальнейшего построения моделей машинного обучения и почему?\n",
    "\n",
    "• GRE Score, CGPA\n",
    "– Ключевые академические метрики, сильная корреляция с целевой переменной (Admission Chance).\n",
    "\n",
    "• TOEFL Score\n",
    "– Аналогичный по значимости тест, также числовой, легко нормировать.\n",
    "\n",
    "• University Rating, SOP, LOR\n",
    "– Категориальные/ранжировочные факторы, отражают престиж университета и качество рекомендаций/мотивации.\n",
    "– Будут преобразованы в dummy‑переменные или порядковые коды.\n",
    "\n",
    "• Research (0/1)\n",
    "– Бинарный признак, важный индикатор опыта, не требует дополнительной обработки.\n",
    "\n",
    "Отобранные признаки дают сбалансированный набор академических, рейтинговых и бинарных факторов, что обычно улучшает обобщающую способность моделей регрессии или классификации в задачах предсказания шансов поступления.\n",
    "\n"
   ]
  },
  {
   "cell_type": "markdown",
   "metadata": {},
   "source": []
  }
 ],
 "metadata": {
  "kernelspec": {
   "display_name": "env",
   "language": "python",
   "name": "python3"
  },
  "language_info": {
   "codemirror_mode": {
    "name": "ipython",
    "version": 3
   },
   "file_extension": ".py",
   "mimetype": "text/x-python",
   "name": "python",
   "nbconvert_exporter": "python",
   "pygments_lexer": "ipython3",
   "version": "3.13.3"
  }
 },
 "nbformat": 4,
 "nbformat_minor": 2
}
